{
 "cells": [
  {
   "cell_type": "code",
   "execution_count": 115,
   "metadata": {
    "ExecuteTime": {
     "end_time": "2019-02-09T03:30:01.060946Z",
     "start_time": "2019-02-09T03:30:01.015Z"
    }
   },
   "outputs": [],
   "source": [
    "library(\"rio\")\n",
    "library(\"ggplot2\")\n",
    "library(\"forecast\")\n",
    "library(\"tseries\")\n",
    "library(\"tidyverse\")\n",
    "library(readxl)\n",
    "library(zoo)\n"
   ]
  },
  {
   "cell_type": "code",
   "execution_count": 116,
   "metadata": {
    "ExecuteTime": {
     "end_time": "2019-02-09T03:30:02.700614Z",
     "start_time": "2019-02-09T03:30:01.992Z"
    }
   },
   "outputs": [],
   "source": [
    "data <- read.csv(\"Monthly_data_cmo.csv\")\n",
    "data <- data.frame(data)\n",
    "data <- data[order(data[,9]),]\n",
    "data <- subset(data, select =-c(state_name))\n",
    "data$APMC <- tolower(data$APMC)\n",
    "data$Commodity <- tolower(data$Commodity)\n",
    "data$Month <- tolower(data$Month)\n",
    "data$FLAG = 0"
   ]
  },
  {
   "cell_type": "code",
   "execution_count": 118,
   "metadata": {
    "ExecuteTime": {
     "end_time": "2019-02-09T03:30:03.683629Z",
     "start_time": "2019-02-09T03:30:03.641Z"
    }
   },
   "outputs": [],
   "source": [
    "for(i in 5:8){\n",
    "  data[is.na(data[,i]), i] <- mean(data[,i], na.rm = TRUE)\n",
    "}"
   ]
  },
  {
   "cell_type": "code",
   "execution_count": 135,
   "metadata": {
    "ExecuteTime": {
     "end_time": "2019-02-09T03:33:09.911879Z",
     "start_time": "2019-02-09T03:33:09.886Z"
    }
   },
   "outputs": [],
   "source": [
    "msp_data <- read.csv(\"CMO_MSP_Mandi.csv\")\n",
    "map_data <- data.frame(msp_data)\n",
    "msp_data <- msp_data[order(msp_data[,1]),]\n",
    "msp_data <- subset(msp_data, select = c(commodity, msprice, year))\n",
    "msp_data$commodity <- tolower(msp_data$commodity)"
   ]
  },
  {
   "cell_type": "code",
   "execution_count": 136,
   "metadata": {
    "ExecuteTime": {
     "end_time": "2019-02-09T03:33:10.379981Z",
     "start_time": "2019-02-09T03:33:10.355Z"
    }
   },
   "outputs": [],
   "source": [
    "flag <- data.frame(APMC = character(1),Commodity = character(1),stringsAsFactors=FALSE)"
   ]
  },
  {
   "cell_type": "code",
   "execution_count": 137,
   "metadata": {
    "ExecuteTime": {
     "end_time": "2019-02-09T03:33:10.890369Z",
     "start_time": "2019-02-09T03:33:10.862Z"
    }
   },
   "outputs": [],
   "source": [
    "season <- function(source,apmc, commodity,attribute,freq,plot = FALSE){\n",
    "    data1 <- subset(source, APMC == as.character(apmc))\n",
    "    data1 <- subset(data1, Commodity == as.character(commodity))\n",
    "    \n",
    "    data1$arrivals_in_qtl = tsclean(ts(data1[, c('arrivals_in_qtl')]))\n",
    "    data1$min_price = tsclean(ts(data1[, c('min_price')]))\n",
    "    data1$max_price = tsclean(ts(data1[, c('max_price')]))\n",
    "    data1$modal_price = tsclean(ts(data1[, c('modal_price')]))\n",
    "\n",
    "    count_ma = ts((data1[[attribute]]),frequency = freq)\n",
    "    decomp = stl(count_ma,\"periodic\")\n",
    "    \n",
    "    deseasonal_cnt <- seasadj(decomp)\n",
    "    count_dl = diff(deseasonal_cnt)\n",
    "    if(plot ==  TRUE){\n",
    "        plot(decomp) \n",
    "    }\n",
    "        test <- adf.test(count_ma,alternative = \"stationary\")$p.value\n",
    "    if(test > 0){\n",
    "\n",
    "    flag <<- rbind(flag, c(apmc,commodity))\n",
    "   }\n",
    "    \n",
    "    data1[[attribute]] = deseasonal_cnt\n",
    "    return <- list(data1, test,c(apmc,commodity))\n",
    "    return\n",
    "}"
   ]
  },
  {
   "cell_type": "code",
   "execution_count": 138,
   "metadata": {
    "ExecuteTime": {
     "end_time": "2019-02-09T03:33:11.477396Z",
     "start_time": "2019-02-09T03:33:11.455Z"
    }
   },
   "outputs": [],
   "source": [
    "final <- function (apmc,comm,attribute){\n",
    "ans1 <- season(source = data, apmc = as.character(apmc),commodity = as.character(comm) ,attribute = attribute,freq=4)\n",
    "a <- subset(msp_data, commodity == comm)\n",
    "a <- subset(a , year > 2013)\n",
    "\n",
    "ggplot()+\n",
    "geom_line(data= data.frame(a) , aes(y = msprice , x= as.numeric(year))) +\n",
    "geom_line(data= data.frame(ans1[1]) , aes(y = as.numeric(min_price) , x= as.numeric(Year)))\n",
    "    \n",
    "    }\n"
   ]
  },
  {
   "cell_type": "code",
   "execution_count": 139,
   "metadata": {
    "ExecuteTime": {
     "end_time": "2019-02-09T03:33:12.424020Z",
     "start_time": "2019-02-09T03:33:12.071Z"
    }
   },
   "outputs": [
    {
     "data": {
      "image/png": "[encoded data removed]",
      "text/plain": [
       "plot without title"
      ]
     },
     "metadata": {},
     "output_type": "display_data"
    }
   ],
   "source": [
    "final(apmc = \"ahmednagar\", comm = \"bajri\", attribute = \"min_price\")"
   ]
  },
  {
   "cell_type": "code",
   "execution_count": 140,
   "metadata": {
    "ExecuteTime": {
     "end_time": "2019-02-09T03:33:13.037339Z",
     "start_time": "2019-02-09T03:33:13.007Z"
    }
   },
   "outputs": [
    {
     "data": {
      "text/html": [
       "<table>\n",
       "<thead><tr><th scope=col>APMC</th><th scope=col>Commodity</th></tr></thead>\n",
       "<tbody>\n",
       "\t<tr><td>          </td><td>          </td></tr>\n",
       "\t<tr><td>ahmednagar</td><td>bajri     </td></tr>\n",
       "</tbody>\n",
       "</table>\n"
      ],
      "text/latex": [
       "\\begin{tabular}{r|ll}\n",
       " APMC & Commodity\\\\\n",
       "\\hline\n",
       "\t            &           \\\\\n",
       "\t ahmednagar & bajri     \\\\\n",
       "\\end{tabular}\n"
      ],
      "text/markdown": [
       "\n",
       "| APMC | Commodity |\n",
       "|---|---|\n",
       "|            |            |\n",
       "| ahmednagar | bajri      |\n",
       "\n"
      ],
      "text/plain": [
       "  APMC       Commodity\n",
       "1                     \n",
       "2 ahmednagar bajri    "
      ]
     },
     "metadata": {},
     "output_type": "display_data"
    }
   ],
   "source": [
    "flag"
   ]
  },
  {
   "cell_type": "code",
   "execution_count": 145,
   "metadata": {
    "ExecuteTime": {
     "end_time": "2019-02-09T03:36:12.355961Z",
     "start_time": "2019-02-09T03:36:12.329Z"
    }
   },
   "outputs": [],
   "source": [
    "apmc <- unique(data$APMC)\n",
    "comm <- unique(msp_data$commodity)"
   ]
  },
  {
   "cell_type": "code",
   "execution_count": 146,
   "metadata": {
    "ExecuteTime": {
     "end_time": "2019-02-09T03:36:12.926492Z",
     "start_time": "2019-02-09T03:36:12.886Z"
    }
   },
   "outputs": [
    {
     "name": "stdout",
     "output_type": "stream",
     "text": [
      " chr [1:32] \"bajri\" \"barli\" \"coconut\" \"cotton\" \"copra (ball)_yellow\" ...\n"
     ]
    }
   ],
   "source": [
    "str(comm)"
   ]
  },
  {
   "cell_type": "code",
   "execution_count": 147,
   "metadata": {
    "ExecuteTime": {
     "end_time": "2019-02-09T03:36:15.920928Z",
     "start_time": "2019-02-09T03:36:15.861Z"
    },
    "scrolled": true
   },
   "outputs": [
    {
     "ename": "ERROR",
     "evalue": "Error in ts(data1[, c(\"arrivals_in_qtl\")]): 'ts' object must have one or more observations\n",
     "output_type": "error",
     "traceback": [
      "Error in ts(data1[, c(\"arrivals_in_qtl\")]): 'ts' object must have one or more observations\nTraceback:\n",
      "1. final(apmc = i, comm = j, attribute = \"min_price\")",
      "2. season(source = data, apmc = as.character(apmc), commodity = as.character(comm), \n .     attribute = attribute, freq = 4)   # at line 2 of file <text>",
      "3. tsclean(ts(data1[, c(\"arrivals_in_qtl\")]))   # at line 5 of file <text>",
      "4. tsoutliers(x, lambda = lambda)",
      "5. ts(data1[, c(\"arrivals_in_qtl\")])   # at line 5 of file <text>",
      "6. stop(\"'ts' object must have one or more observations\")"
     ]
    }
   ],
   "source": [
    "for(i in apmc){\n",
    "    for(j in comm){\n",
    "        final(apmc = i,comm = j,attribute = \"min_price\")\n",
    "    }\n",
    "}"
   ]
  },
  {
   "cell_type": "code",
   "execution_count": null,
   "metadata": {},
   "outputs": [],
   "source": []
  }
 ],
 "metadata": {
  "kernelspec": {
   "display_name": "R",
   "language": "R",
   "name": "ir"
  },
  "language_info": {
   "codemirror_mode": "r",
   "file_extension": ".r",
   "mimetype": "text/x-r-source",
   "name": "R",
   "pygments_lexer": "r",
   "version": "3.4.4"
  }
 },
 "nbformat": 4,
 "nbformat_minor": 2
}
