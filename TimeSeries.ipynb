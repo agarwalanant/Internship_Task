{
 "cells": [
  {
   "cell_type": "code",
   "execution_count": null,
   "metadata": {
    "ExecuteTime": {
     "end_time": "2019-02-09T04:50:12.117656Z",
     "start_time": "2019-02-09T04:50:11.969Z"
    }
   },
   "outputs": [],
   "source": [
    "#Libraries import\n",
    "library(\"rio\")\n",
    "library(\"ggplot2\")\n",
    "library(\"forecast\")\n",
    "library(\"tseries\")\n",
    "library(\"tidyverse\")\n",
    "library(readxl)\n",
    "library(zoo)\n"
   ]
  },
  {
   "cell_type": "code",
   "execution_count": null,
   "metadata": {
    "ExecuteTime": {
     "end_time": "2019-02-09T04:29:48.932391Z",
     "start_time": "2019-02-09T04:29:45.894Z"
    }
   },
   "outputs": [],
   "source": [
    "# Pre-processing of Monthly CMO data\n",
    "data <- read.csv(\"Monthly_data_cmo.csv\")\n",
    "data <- data.frame(data)\n",
    "data <- data[order(data[,9]),]\n",
    "data <- subset(data, select =-c(state_name))\n",
    "# converting the data into lower to maintain consistency\n",
    "data$APMC <- tolower(data$APMC) \n",
    "data$Commodity <- tolower(data$Commodity)\n",
    "data$Month <- tolower(data$Month)"
   ]
  },
  {
   "cell_type": "code",
   "execution_count": null,
   "metadata": {
    "ExecuteTime": {
     "end_time": "2019-02-09T04:29:48.963473Z",
     "start_time": "2019-02-09T04:29:45.903Z"
    }
   },
   "outputs": [],
   "source": [
    "#Dealing with na values in data replacing with mean of the column\n",
    "for(i in 5:8){\n",
    "  data[is.na(data[,i]), i] <- mean(data[,i], na.rm = TRUE)\n",
    "}"
   ]
  },
  {
   "cell_type": "code",
   "execution_count": null,
   "metadata": {
    "ExecuteTime": {
     "end_time": "2019-02-09T04:29:48.998163Z",
     "start_time": "2019-02-09T04:29:45.909Z"
    },
    "code_folding": []
   },
   "outputs": [],
   "source": [
    "# Loading and preprocessing the MSP data.\n",
    "msp_data <- read.csv(\"CMO_MSP_Mandi.csv\")\n",
    "map_data <- data.frame(msp_data)\n",
    "msp_data <- msp_data[order(msp_data[,1]),]\n",
    "msp_data <- subset(msp_data, select = c(commodity, msprice, year))\n",
    "msp_data$commodity <- tolower(msp_data$commodity) #converting the values in lower case to maintain consistency."
   ]
  },
  {
   "cell_type": "code",
   "execution_count": null,
   "metadata": {},
   "outputs": [],
   "source": [
    "#Dealing with na values in data replacing with mean of the column\n",
    "for(i in 5:8){\n",
    "  msp_data[is.na(msp_data[,i]), i] <- mean(msp_data[,i], na.rm = TRUE)\n",
    "}"
   ]
  },
  {
   "cell_type": "code",
   "execution_count": null,
   "metadata": {
    "ExecuteTime": {
     "end_time": "2019-02-09T05:13:55.779523Z",
     "start_time": "2019-02-09T05:13:55.755Z"
    }
   },
   "outputs": [],
   "source": [
    "#flag data fram to FLAG the APMC and commodities which are not stable i.e p-value > 0.05.\n",
    "flag <- data.frame(APMC = character(1),Commodity = character(1),stringsAsFactors=FALSE)"
   ]
  },
  {
   "cell_type": "code",
   "execution_count": null,
   "metadata": {
    "ExecuteTime": {
     "end_time": "2019-02-09T05:13:20.441244Z",
     "start_time": "2019-02-09T05:13:20.421Z"
    },
    "code_folding": []
   },
   "outputs": [],
   "source": [
    "#Function to detect and remove and seasonality of a particular APMC, Commodity and Attribute.\n",
    "season <- function(source,apmc, commodity,attribute,freq,plot = FALSE){\n",
    "    data1 <- subset(source, APMC == as.character(apmc))\n",
    "    data1 <- subset(data1, Commodity == as.character(commodity))\n",
    "    # making the attributes of interest into timeseries\n",
    "    data1$arrivals_in_qtl = tsclean(ts(data1[, c('arrivals_in_qtl')]))\n",
    "    data1$min_price = tsclean(ts(data1[, c('min_price')]))\n",
    "    data1$max_price = tsclean(ts(data1[, c('max_price')]))\n",
    "    data1$modal_price = tsclean(ts(data1[, c('modal_price')]))\n",
    "\n",
    "    count_ma = ts((data1[[attribute]]),frequency = freq)\n",
    "    decomp = stl(count_ma,\"periodic\")\n",
    "    #deseasonalizing the selected atttibute\n",
    "    deseasonal_cnt <- seasadj(decomp)\n",
    "    count_dl = diff(deseasonal_cnt)\n",
    "    if(plot ==  TRUE){\n",
    "        plot(decomp) #plottnig the decomp (plotting doesn't works with loops in R)\n",
    "    }\n",
    "        test <- adf.test(count_ma,alternative = \"stationary\")$p.value #performinf ADF test for stability\n",
    "    if(test > 0.05){\n",
    "\n",
    "    flag <<- rbind(flag, c(apmc,commodity)) # if the attribute is unstable appending to the flag data frame\n",
    "   }\n",
    "    \n",
    "    data1[[attribute]] = deseasonal_cnt #appending the deseasonalized data back to the original data.\n",
    "    return <- list(data1, test,c(apmc,commodity))\n",
    "    return\n",
    "}"
   ]
  },
  {
   "cell_type": "code",
   "execution_count": null,
   "metadata": {
    "ExecuteTime": {
     "end_time": "2019-02-09T05:13:37.979113Z",
     "start_time": "2019-02-09T05:13:37.961Z"
    }
   },
   "outputs": [],
   "source": [
    "#Final driver function for analysis of data.\n",
    "final <- function (apmc,comm,attribute){\n",
    "ans1 <- season(source = data, apmc = as.character(apmc),commodity = as.character(comm) ,attribute = attribute,freq=3)\n",
    "a <- subset(msp_data, commodity == as.character(comm))\n",
    "a <- subset(a , year > 2013) # matching year value with CMO data.\n",
    "\n",
    "ggplot()+ # plotting doesn't work with loops\n",
    "geom_line(data= data.frame(a) , aes(y = msprice , x= as.numeric(year))) +\n",
    "geom_line(data= data.frame(ans1[1]) , aes(y = as.numeric(min_price) , x= as.numeric(Year)))\n",
    "    \n",
    "    }\n"
   ]
  },
  {
   "cell_type": "code",
   "execution_count": null,
   "metadata": {
    "ExecuteTime": {
     "end_time": "2019-02-09T05:13:39.862992Z",
     "start_time": "2019-02-09T05:13:39.815Z"
    }
   },
   "outputs": [],
   "source": [
    "#Extractnig out Unique APMCs from the data.\n",
    "apmc_f <- c(unique(data$APMC))"
   ]
  },
  {
   "cell_type": "code",
   "execution_count": null,
   "metadata": {
    "ExecuteTime": {
     "end_time": "2019-02-09T05:14:05.632892Z",
     "start_time": "2019-02-09T05:14:05.185Z"
    },
    "scrolled": true
   },
   "outputs": [],
   "source": [
    "for(i in 1:340){\n",
    "    #for the particular APMC considering only those Commosity which are present in both datasets as there is inconsistency\n",
    "    data1 <- subset(data, APMC == apmc_f[i])\n",
    "    comm_msp <- c(unique(msp_data$commodity))\n",
    "    comm_data <- c(unique(data1$Commodity))\n",
    "    comm_f <- intersect(comm_msp,comm_data)\n",
    "    for(j in comm_f){\n",
    "        final(apmc =apmc_f[i] ,comm = j,attribute = \"min_price\")\n",
    "    }\n",
    "}"
   ]
  },
  {
   "cell_type": "code",
   "execution_count": null,
   "metadata": {
    "ExecuteTime": {
     "end_time": "2019-02-09T16:48:21.176037Z",
     "start_time": "2019-02-09T16:48:20.324Z"
    }
   },
   "outputs": [],
   "source": [
    "flag #Displaying the flagged attributes"
   ]
  },
  {
   "cell_type": "code",
   "execution_count": null,
   "metadata": {},
   "outputs": [],
   "source": []
  }
 ],
 "metadata": {
  "kernelspec": {
   "display_name": "R",
   "language": "R",
   "name": "ir"
  },
  "language_info": {
   "codemirror_mode": "r",
   "file_extension": ".r",
   "mimetype": "text/x-r-source",
   "name": "R",
   "pygments_lexer": "r",
   "version": "3.4.4"
  }
 },
 "nbformat": 4,
 "nbformat_minor": 2
}
