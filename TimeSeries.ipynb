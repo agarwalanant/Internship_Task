{
 "cells": [
  {
   "cell_type": "code",
   "execution_count": 29,
   "metadata": {
    "ExecuteTime": {
     "end_time": "2019-02-09T04:50:12.117656Z",
     "start_time": "2019-02-09T04:50:11.969Z"
    }
   },
   "outputs": [
    {
     "name": "stderr",
     "output_type": "stream",
     "text": [
      "Loading required package: xts\n",
      "\n",
      "Attaching package: 'xts'\n",
      "\n",
      "The following objects are masked from 'package:dplyr':\n",
      "\n",
      "    first, last\n",
      "\n",
      "Loading required package: TTR\n",
      "Version 0.4-0 included new data defaults. See ?getSymbols.\n"
     ]
    }
   ],
   "source": [
    "library(\"rio\")\n",
    "library(\"ggplot2\")\n",
    "library(\"forecast\")\n",
    "library(\"tseries\")\n",
    "library(\"tidyverse\")\n",
    "library(quantmod)\n",
    "library(readxl)\n",
    "library(zoo)\n"
   ]
  },
  {
   "cell_type": "code",
   "execution_count": 2,
   "metadata": {
    "ExecuteTime": {
     "end_time": "2019-02-09T04:29:48.932391Z",
     "start_time": "2019-02-09T04:29:45.894Z"
    }
   },
   "outputs": [],
   "source": [
    "data <- read.csv(\"Monthly_data_cmo.csv\")\n",
    "data <- data.frame(data)\n",
    "data <- data[order(data[,9]),]\n",
    "data <- subset(data, select =-c(state_name))\n",
    "data$APMC <- tolower(data$APMC)\n",
    "data$Commodity <- tolower(data$Commodity)\n",
    "data$Month <- tolower(data$Month)\n",
    "data$FLAG = 0"
   ]
  },
  {
   "cell_type": "code",
   "execution_count": 3,
   "metadata": {
    "ExecuteTime": {
     "end_time": "2019-02-09T04:29:48.963473Z",
     "start_time": "2019-02-09T04:29:45.903Z"
    }
   },
   "outputs": [],
   "source": [
    "for(i in 5:8){\n",
    "  data[is.na(data[,i]), i] <- mean(data[,i], na.rm = TRUE)\n",
    "}"
   ]
  },
  {
   "cell_type": "code",
   "execution_count": 4,
   "metadata": {
    "ExecuteTime": {
     "end_time": "2019-02-09T04:29:48.998163Z",
     "start_time": "2019-02-09T04:29:45.909Z"
    }
   },
   "outputs": [],
   "source": [
    "msp_data <- read.csv(\"CMO_MSP_Mandi.csv\")\n",
    "map_data <- data.frame(msp_data)\n",
    "msp_data <- msp_data[order(msp_data[,1]),]\n",
    "msp_data <- subset(msp_data, select = c(commodity, msprice, year))\n",
    "msp_data$commodity <- tolower(msp_data$commodity)"
   ]
  },
  {
   "cell_type": "code",
   "execution_count": 88,
   "metadata": {
    "ExecuteTime": {
     "end_time": "2019-02-09T05:13:55.779523Z",
     "start_time": "2019-02-09T05:13:55.755Z"
    }
   },
   "outputs": [],
   "source": [
    "flag <- data.frame(APMC = character(1),Commodity = character(1),stringsAsFactors=FALSE)"
   ]
  },
  {
   "cell_type": "code",
   "execution_count": 73,
   "metadata": {
    "ExecuteTime": {
     "end_time": "2019-02-09T05:13:20.441244Z",
     "start_time": "2019-02-09T05:13:20.421Z"
    }
   },
   "outputs": [],
   "source": [
    "season <- function(source,apmc, commodity,attribute,freq,plot = FALSE){\n",
    "    data1 <- subset(source, APMC == as.character(apmc))\n",
    "    data1 <- subset(data1, Commodity == as.character(commodity))\n",
    "    \n",
    "    data1$arrivals_in_qtl = tsclean(ts(data1[, c('arrivals_in_qtl')]))\n",
    "    data1$min_price = tsclean(ts(data1[, c('min_price')]))\n",
    "    data1$max_price = tsclean(ts(data1[, c('max_price')]))\n",
    "    data1$modal_price = tsclean(ts(data1[, c('modal_price')]))\n",
    "\n",
    "    count_ma = ts((data1[[attribute]]),frequency = freq)\n",
    "    decomp = stl(count_ma,\"periodic\")\n",
    "    \n",
    "    deseasonal_cnt <- seasadj(decomp)\n",
    "    count_dl = diff(deseasonal_cnt)\n",
    "    if(plot ==  TRUE){\n",
    "        plot(decomp) \n",
    "    }\n",
    "        test <- adf.test(count_ma,alternative = \"stationary\")$p.value\n",
    "    if(test > 0.05){\n",
    "\n",
    "    flag <<- rbind(flag, c(apmc,commodity))\n",
    "   }\n",
    "    \n",
    "    data1[[attribute]] = deseasonal_cnt\n",
    "    return <- list(data1, test,c(apmc,commodity))\n",
    "    return\n",
    "}"
   ]
  },
  {
   "cell_type": "code",
   "execution_count": 81,
   "metadata": {
    "ExecuteTime": {
     "end_time": "2019-02-09T05:13:37.979113Z",
     "start_time": "2019-02-09T05:13:37.961Z"
    }
   },
   "outputs": [],
   "source": [
    "final <- function (apmc,comm,attribute){\n",
    "ans1 <- season(source = data, apmc = as.character(apmc),commodity = as.character(comm) ,attribute = attribute,freq=3)\n",
    "a <- subset(msp_data, commodity == as.character(comm))\n",
    "a <- subset(a , year > 2013)\n",
    "\n",
    "ggplot()+\n",
    "geom_line(data= data.frame(a) , aes(y = msprice , x= as.numeric(year))) +\n",
    "geom_line(data= data.frame(ans1[1]) , aes(y = as.numeric(min_price) , x= as.numeric(Year)))\n",
    "    \n",
    "    }\n"
   ]
  },
  {
   "cell_type": "code",
   "execution_count": 84,
   "metadata": {
    "ExecuteTime": {
     "end_time": "2019-02-09T05:13:39.862992Z",
     "start_time": "2019-02-09T05:13:39.815Z"
    }
   },
   "outputs": [],
   "source": [
    "apmc_f <- c(unique(data$APMC))"
   ]
  },
  {
   "cell_type": "code",
   "execution_count": 85,
   "metadata": {
    "ExecuteTime": {
     "end_time": "2019-02-09T05:13:40.309628Z",
     "start_time": "2019-02-09T05:13:40.265Z"
    }
   },
   "outputs": [],
   "source": [
    "    data1 <- subset(data, APMC == apmc_f[1])\n",
    "    comm_msp <- c(unique(msp_data$commodity))\n",
    "    comm_data <- c(unique(data1$Commodity))\n",
    "    comm_f <- intersect(comm_msp,comm_data)"
   ]
  },
  {
   "cell_type": "code",
   "execution_count": 90,
   "metadata": {
    "ExecuteTime": {
     "end_time": "2019-02-09T05:14:05.632892Z",
     "start_time": "2019-02-09T05:14:05.185Z"
    },
    "scrolled": true
   },
   "outputs": [
    {
     "name": "stderr",
     "output_type": "stream",
     "text": [
      "Warning message in adf.test(count_ma, alternative = \"stationary\"):\n",
      "\"p-value smaller than printed p-value\"Warning message in adf.test(count_ma, alternative = \"stationary\"):\n",
      "\"p-value smaller than printed p-value\"Warning message in adf.test(count_ma, alternative = \"stationary\"):\n",
      "\"p-value smaller than printed p-value\""
     ]
    },
    {
     "ename": "ERROR",
     "evalue": "Error in stl(count_ma, \"periodic\"): series is not periodic or has less than two periods\n",
     "output_type": "error",
     "traceback": [
      "Error in stl(count_ma, \"periodic\"): series is not periodic or has less than two periods\nTraceback:\n",
      "1. final(apmc = apmc_f[i], comm = j, attribute = \"min_price\")",
      "2. season(source = data, apmc = as.character(apmc), commodity = as.character(comm), \n .     attribute = attribute, freq = 3)   # at line 2 of file <text>",
      "3. stl(count_ma, \"periodic\")   # at line 11 of file <text>",
      "4. stop(\"series is not periodic or has less than two periods\")"
     ]
    }
   ],
   "source": [
    "for(i in 1:340){\n",
    "    data1 <- subset(data, APMC == apmc_f[i])\n",
    "    comm_msp <- c(unique(msp_data$commodity))\n",
    "    comm_data <- c(unique(data1$Commodity))\n",
    "    comm_f <- intersect(comm_msp,comm_data)\n",
    "    for(j in comm_f){\n",
    "        final(apmc =apmc_f[i] ,comm = j,attribute = \"min_price\")\n",
    "    }\n",
    "}"
   ]
  },
  {
   "cell_type": "code",
   "execution_count": 91,
   "metadata": {
    "ExecuteTime": {
     "end_time": "2019-02-09T05:14:07.164384Z",
     "start_time": "2019-02-09T05:14:07.135Z"
    }
   },
   "outputs": [
    {
     "data": {
      "text/html": [
       "<table>\n",
       "<thead><tr><th scope=col>APMC</th><th scope=col>Commodity</th></tr></thead>\n",
       "<tbody>\n",
       "\t<tr><td>                </td><td>                </td></tr>\n",
       "\t<tr><td>ahmednagar      </td><td>bajri           </td></tr>\n",
       "\t<tr><td>ahmednagar      </td><td>maize           </td></tr>\n",
       "\t<tr><td>ahmednagar      </td><td>pigeon pea (tur)</td></tr>\n",
       "\t<tr><td>ahmednagar      </td><td>wheat(husked)   </td></tr>\n",
       "\t<tr><td>akole           </td><td>bajri           </td></tr>\n",
       "\t<tr><td>akole           </td><td>paddy-unhusked  </td></tr>\n",
       "\t<tr><td>akole           </td><td>wheat(husked)   </td></tr>\n",
       "\t<tr><td>jamkhed         </td><td>bajri           </td></tr>\n",
       "</tbody>\n",
       "</table>\n"
      ],
      "text/latex": [
       "\\begin{tabular}{r|ll}\n",
       " APMC & Commodity\\\\\n",
       "\\hline\n",
       "\t                  &                 \\\\\n",
       "\t ahmednagar       & bajri           \\\\\n",
       "\t ahmednagar       & maize           \\\\\n",
       "\t ahmednagar       & pigeon pea (tur)\\\\\n",
       "\t ahmednagar       & wheat(husked)   \\\\\n",
       "\t akole            & bajri           \\\\\n",
       "\t akole            & paddy-unhusked  \\\\\n",
       "\t akole            & wheat(husked)   \\\\\n",
       "\t jamkhed          & bajri           \\\\\n",
       "\\end{tabular}\n"
      ],
      "text/markdown": [
       "\n",
       "| APMC | Commodity |\n",
       "|---|---|\n",
       "|                  |                  |\n",
       "| ahmednagar       | bajri            |\n",
       "| ahmednagar       | maize            |\n",
       "| ahmednagar       | pigeon pea (tur) |\n",
       "| ahmednagar       | wheat(husked)    |\n",
       "| akole            | bajri            |\n",
       "| akole            | paddy-unhusked   |\n",
       "| akole            | wheat(husked)    |\n",
       "| jamkhed          | bajri            |\n",
       "\n"
      ],
      "text/plain": [
       "  APMC       Commodity       \n",
       "1                            \n",
       "2 ahmednagar bajri           \n",
       "3 ahmednagar maize           \n",
       "4 ahmednagar pigeon pea (tur)\n",
       "5 ahmednagar wheat(husked)   \n",
       "6 akole      bajri           \n",
       "7 akole      paddy-unhusked  \n",
       "8 akole      wheat(husked)   \n",
       "9 jamkhed    bajri           "
      ]
     },
     "metadata": {},
     "output_type": "display_data"
    }
   ],
   "source": [
    "flag"
   ]
  },
  {
   "cell_type": "code",
   "execution_count": null,
   "metadata": {},
   "outputs": [],
   "source": []
  }
 ],
 "metadata": {
  "kernelspec": {
   "display_name": "R",
   "language": "R",
   "name": "ir"
  },
  "language_info": {
   "codemirror_mode": "r",
   "file_extension": ".r",
   "mimetype": "text/x-r-source",
   "name": "R",
   "pygments_lexer": "r",
   "version": "3.4.4"
  }
 },
 "nbformat": 4,
 "nbformat_minor": 2
}
